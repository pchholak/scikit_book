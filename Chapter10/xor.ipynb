{
 "cells": [
  {
   "cell_type": "code",
   "execution_count": 2,
   "metadata": {},
   "outputs": [],
   "source": [
    "from sklearn.model_selection import train_test_split\n",
    "from sklearn.neural_network import MLPClassifier\n",
    "y = [0, 1, 1, 0] * 1000\n",
    "X = [[0, 0], [0, 1], [1, 0], [1, 1]] * 1000\n",
    "X_train, X_test, y_train, y_test = train_test_split(X, y,\n",
    "                                                    random_state=3)"
   ]
  },
  {
   "cell_type": "code",
   "execution_count": 7,
   "metadata": {},
   "outputs": [
    {
     "data": {
      "text/plain": [
       "MLPClassifier(activation='logistic', alpha=0.0001, batch_size='auto',\n",
       "       beta_1=0.9, beta_2=0.999, early_stopping=False, epsilon=1e-08,\n",
       "       hidden_layer_sizes=[2], learning_rate='constant',\n",
       "       learning_rate_init=0.001, max_iter=200, momentum=0.9,\n",
       "       n_iter_no_change=10, nesterovs_momentum=True, power_t=0.5,\n",
       "       random_state=3, shuffle=True, solver='sgd', tol=0.0001,\n",
       "       validation_fraction=0.1, verbose=False, warm_start=False)"
      ]
     },
     "execution_count": 7,
     "metadata": {},
     "output_type": "execute_result"
    }
   ],
   "source": [
    "clf = MLPClassifier(hidden_layer_sizes=[2],\n",
    "                   activation='logistic',\n",
    "                   solver='sgd',\n",
    "                   random_state=3)\n",
    "clf.fit(X_train, y_train)"
   ]
  },
  {
   "cell_type": "code",
   "execution_count": 8,
   "metadata": {},
   "outputs": [
    {
     "name": "stdout",
     "output_type": "stream",
     "text": [
      "Number of layers: 3. Number of outputs: 1\n",
      "Accuracy: 0.49\n",
      "True: 1, Predicted: 0\n",
      "True: 1, Predicted: 0\n",
      "True: 1, Predicted: 0\n",
      "True: 0, Predicted: 0\n",
      "True: 1, Predicted: 0\n",
      "True: 0, Predicted: 0\n",
      "True: 0, Predicted: 0\n",
      "True: 1, Predicted: 0\n",
      "True: 0, Predicted: 0\n",
      "True: 1, Predicted: 0\n"
     ]
    }
   ],
   "source": [
    "print('Number of layers: %s. Number of outputs: %s' %\n",
    "     (clf.n_layers_, clf.n_outputs_))\n",
    "predictions = clf.predict(X_test)\n",
    "print('Accuracy:', clf.score(X_test, y_test))\n",
    "for i, p in enumerate(predictions[:10]):\n",
    "    print('True: %s, Predicted: %s' % (y_test[i], p))"
   ]
  },
  {
   "cell_type": "code",
   "execution_count": null,
   "metadata": {},
   "outputs": [],
   "source": []
  }
 ],
 "metadata": {
  "kernelspec": {
   "display_name": "Python 3",
   "language": "python",
   "name": "python3"
  },
  "language_info": {
   "codemirror_mode": {
    "name": "ipython",
    "version": 3
   },
   "file_extension": ".py",
   "mimetype": "text/x-python",
   "name": "python",
   "nbconvert_exporter": "python",
   "pygments_lexer": "ipython3",
   "version": "3.7.1"
  }
 },
 "nbformat": 4,
 "nbformat_minor": 2
}
