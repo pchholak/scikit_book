{
 "cells": [
  {
   "cell_type": "code",
   "execution_count": 2,
   "metadata": {},
   "outputs": [],
   "source": [
    "import os\n",
    "import numpy as np\n",
    "from sklearn.svm import SVC\n",
    "from sklearn.model_selection import train_test_split\n",
    "from sklearn.metrics import classification_report\n",
    "from PIL import Image"
   ]
  },
  {
   "cell_type": "code",
   "execution_count": 3,
   "metadata": {},
   "outputs": [],
   "source": [
    "def resize_and_crop(image, size):\n",
    "    img_ratio = image.size[0] / float(image.size[1])\n",
    "    ratio = size[0] / float(size[1])\n",
    "    if ratio > img_ratio:\n",
    "        image = image.resize((size[0], int(size[0] * image.size[1] / image.size[0])), Image.ANTIALIAS)\n",
    "        image = image.crop((0, 0, 30, 30))\n",
    "    elif ratio < img_ratio:\n",
    "        image = image.resize((int(size[1] * image.size[0] / image.size[1]), size[1]), Image.ANTIALIAS)\n",
    "        image = image.crop((0, 0, 30, 30))\n",
    "    else:\n",
    "         image = image.resize((size[0], size[1]), Image.ANTIALIAS)\n",
    "    return image"
   ]
  },
  {
   "cell_type": "code",
   "execution_count": 4,
   "metadata": {},
   "outputs": [],
   "source": [
    "X = []\n",
    "y = []\n",
    "\n",
    "for path, subdirs, files in os.walk('data/English/Img/GoodImg/Bmp/'):\n",
    "    for filename in files:\n",
    "        f = os.path.join(path, filename)\n",
    "        img = Image.open(f).convert('L') # convert to grayscale\n",
    "        img_resized = resize_and_crop(img, (30, 30))\n",
    "        img_resized = np.asarray(img_resized.getdata(), dtype=np.float64) \\\n",
    "        .reshape((img_resized.size[1] * img_resized.size[0], 1))\n",
    "        target = filename[3:filename.index('-')]\n",
    "        X.append(img_resized)\n",
    "        y.append(target)\n",
    "\n",
    "X = np.array(X)\n",
    "X = X.reshape(X.shape[:2])"
   ]
  },
  {
   "cell_type": "code",
   "execution_count": 13,
   "metadata": {},
   "outputs": [
    {
     "data": {
      "text/plain": [
       "(7705, 900)"
      ]
     },
     "execution_count": 13,
     "metadata": {},
     "output_type": "execute_result"
    }
   ],
   "source": [
    "classifier = SVC(verbose=0, kernel='poly', degree=3)\n",
    "X_train, X_test, y_train, y_test = train_test_split(X, y, random_state=1)\n",
    "classifier.fit(X_train, y_train)\n",
    "predictions = classifier.predict(X_test)\n",
    "print(classification_report(y_test, predictions))"
   ]
  },
  {
   "cell_type": "code",
   "execution_count": null,
   "metadata": {},
   "outputs": [],
   "source": []
  }
 ],
 "metadata": {
  "kernelspec": {
   "display_name": "Python 3",
   "language": "python",
   "name": "python3"
  },
  "language_info": {
   "codemirror_mode": {
    "name": "ipython",
    "version": 3
   },
   "file_extension": ".py",
   "mimetype": "text/x-python",
   "name": "python",
   "nbconvert_exporter": "python",
   "pygments_lexer": "ipython3",
   "version": "3.7.1"
  }
 },
 "nbformat": 4,
 "nbformat_minor": 2
}
