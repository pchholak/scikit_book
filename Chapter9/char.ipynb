{
 "cells": [
  {
   "cell_type": "code",
   "execution_count": 2,
   "metadata": {},
   "outputs": [],
   "source": [
    "import os\n",
    "import numpy as np\n",
    "from sklearn.svm import SVC\n",
    "from sklearn.model_selection import train_test_split\n",
    "from sklearn.metrics import classification_report\n",
    "from PIL import Image"
   ]
  },
  {
   "cell_type": "code",
   "execution_count": 3,
   "metadata": {},
   "outputs": [],
   "source": [
    "def resize_and_crop(image, size):\n",
    "    img_ratio = image.size[0] / float(image.size[1])\n",
    "    ratio = size[0] / float(size[1])\n",
    "    if ratio > img_ratio:\n",
    "        image = image.resize((size[0], int(size[0] * image.size[1] / image.size[0])), Image.ANTIALIAS)\n",
    "        image = image.crop((0, 0, 30, 30))\n",
    "    elif ratio < img_ratio:\n",
    "        image = image.resize((int(size[1] * image.size[0] / image.size[1]), size[1]), Image.ANTIALIAS)\n",
    "        image = image.crop((0, 0, 30, 30))\n",
    "    else:\n",
    "         image = image.resize((size[0], size[1]), Image.ANTIALIAS)\n",
    "    return image"
   ]
  },
  {
   "cell_type": "code",
   "execution_count": 4,
   "metadata": {},
   "outputs": [],
   "source": [
    "X = []\n",
    "y = []\n",
    "\n",
    "for path, subdirs, files in os.walk('data/English/Img/GoodImg/Bmp/'):\n",
    "    for filename in files:\n",
    "        f = os.path.join(path, filename)\n",
    "        img = Image.open(f).convert('L') # convert to grayscale\n",
    "        img_resized = resize_and_crop(img, (30, 30))\n",
    "        img_resized = np.asarray(img_resized.getdata(), dtype=np.float64) \\\n",
    "        .reshape((img_resized.size[1] * img_resized.size[0], 1))\n",
    "        target = filename[3:filename.index('-')]\n",
    "        X.append(img_resized)\n",
    "        y.append(target)\n",
    "\n",
    "X = np.array(X)\n",
    "X = X.reshape(X.shape[:2])"
   ]
  },
  {
   "cell_type": "code",
   "execution_count": 15,
   "metadata": {},
   "outputs": [
    {
     "name": "stderr",
     "output_type": "stream",
     "text": [
      "C:\\Users\\Usuario\\Anaconda3\\lib\\site-packages\\sklearn\\svm\\base.py:196: FutureWarning: The default value of gamma will change from 'auto' to 'scale' in version 0.22 to account better for unscaled features. Set gamma explicitly to 'auto' or 'scale' to avoid this warning.\n",
      "  \"avoid this warning.\", FutureWarning)\n"
     ]
    },
    {
     "name": "stdout",
     "output_type": "stream",
     "text": [
      "              precision    recall  f1-score   support\n",
      "\n",
      "         001       0.12      0.17      0.14        24\n",
      "         002       0.09      0.15      0.11        20\n",
      "         003       0.00      0.00      0.00        20\n",
      "         004       0.35      0.50      0.41        12\n",
      "         005       0.11      0.33      0.16        15\n",
      "         006       0.12      0.43      0.19        14\n",
      "         007       0.22      0.15      0.18        13\n",
      "         008       0.25      0.12      0.17         8\n",
      "         009       0.05      0.10      0.06        10\n",
      "         010       0.10      0.29      0.15         7\n",
      "         011       0.84      0.61      0.71       127\n",
      "         012       0.19      0.31      0.24        35\n",
      "         013       0.35      0.31      0.33        49\n",
      "         014       0.42      0.33      0.37        46\n",
      "         015       0.62      0.48      0.54       110\n",
      "         016       0.03      0.06      0.04        16\n",
      "         017       0.22      0.29      0.25        31\n",
      "         018       0.53      0.29      0.38        55\n",
      "         019       0.55      0.53      0.54        85\n",
      "         020       0.18      0.09      0.12        23\n",
      "         021       0.29      0.17      0.22        23\n",
      "         022       0.72      0.54      0.62        52\n",
      "         023       0.33      0.19      0.25        36\n",
      "         024       0.75      0.55      0.64        85\n",
      "         025       0.42      0.24      0.30       105\n",
      "         026       0.27      0.14      0.18        50\n",
      "         027       0.00      0.00      0.00         8\n",
      "         028       0.45      0.34      0.39        99\n",
      "         029       0.54      0.30      0.39        70\n",
      "         030       0.78      0.54      0.64        80\n",
      "         031       0.06      0.18      0.09        22\n",
      "         032       0.24      0.28      0.26        29\n",
      "         033       0.29      0.29      0.29        14\n",
      "         034       0.10      0.06      0.08        16\n",
      "         035       0.36      0.33      0.35        12\n",
      "         036       0.18      0.18      0.18        11\n",
      "         037       0.33      0.38      0.35        48\n",
      "         038       0.15      0.29      0.20        14\n",
      "         039       0.12      0.13      0.12        23\n",
      "         040       0.50      0.20      0.29        10\n",
      "         041       0.46      0.41      0.43        64\n",
      "         042       0.04      0.09      0.05        11\n",
      "         043       0.10      0.20      0.13        15\n",
      "         044       0.13      0.33      0.19        15\n",
      "         045       0.32      0.27      0.29        30\n",
      "         046       0.33      0.14      0.20         7\n",
      "         047       0.19      0.30      0.23        10\n",
      "         048       0.24      0.24      0.24        21\n",
      "         049       0.06      0.12      0.08         8\n",
      "         050       0.39      0.39      0.39        36\n",
      "         051       0.15      0.24      0.18        34\n",
      "         052       0.12      0.10      0.11        10\n",
      "         053       0.00      0.00      0.00        11\n",
      "         054       0.26      0.42      0.32        26\n",
      "         055       0.06      0.10      0.08        29\n",
      "         056       0.56      0.32      0.41        28\n",
      "         057       0.08      0.25      0.12         8\n",
      "         058       0.00      0.00      0.00         9\n",
      "         059       0.07      0.17      0.10         6\n",
      "         060       0.20      0.12      0.15         8\n",
      "         061       0.00      0.00      0.00         7\n",
      "         062       0.09      0.14      0.11         7\n",
      "\n",
      "   micro avg       0.33      0.33      0.33      1927\n",
      "   macro avg       0.26      0.25      0.24      1927\n",
      "weighted avg       0.41      0.33      0.36      1927\n",
      "\n"
     ]
    }
   ],
   "source": [
    "classifier = SVC(verbose=0, kernel='poly', degree=3)\n",
    "X_train, X_test, y_train, y_test = train_test_split(X, y, random_state=1)\n",
    "classifier.fit(X_train, y_train)\n",
    "predictions = classifier.predict(X_test)\n",
    "print(classification_report(y_test, predictions))"
   ]
  },
  {
   "cell_type": "code",
   "execution_count": null,
   "metadata": {},
   "outputs": [],
   "source": []
  }
 ],
 "metadata": {
  "kernelspec": {
   "display_name": "Python 3",
   "language": "python",
   "name": "python3"
  },
  "language_info": {
   "codemirror_mode": {
    "name": "ipython",
    "version": 3
   },
   "file_extension": ".py",
   "mimetype": "text/x-python",
   "name": "python",
   "nbconvert_exporter": "python",
   "pygments_lexer": "ipython3",
   "version": "3.7.1"
  }
 },
 "nbformat": 4,
 "nbformat_minor": 2
}
